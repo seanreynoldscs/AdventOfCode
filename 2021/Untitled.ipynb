{
 "cells": [
  {
   "cell_type": "code",
   "execution_count": 7,
   "id": "ce3ba424",
   "metadata": {},
   "outputs": [
    {
     "name": "stdout",
     "output_type": "stream",
     "text": [
      "The dir is: ['TP_3842', 'TP_200SZ03', 'TP_6253_0044', 'TP_6AT5225', 'TP_MH_250', 'TP_3701', 'TP_SS_C_11_03M', 'TP_RDNK_21_DC_03M', 'TP_5B', 'TP_E11892', 'TP_LOX_EVB', 'TP_E11893', 'TP_4991XT', 'TP_LHW_150_10', 'TP_GTH80', 'TP_STR060', 'TP_LFE5', 'TP_LOX_02_F', 'TP_6202_0001', 'TP_BoWex_i_100', 'TP_MW0367_006', 'TP_8HSFD_25', 'TP_6900_2NSE', 'TP_RP_1ADH_252843', 'TP_MH_100', 'TP_FS15612', 'TP_O2S_FR_T4_4P', 'TP_0844', 'TP_0844GR1G', 'TP_14M']\n"
     ]
    }
   ],
   "source": [
    "\n",
    "import os, sys\n",
    "base = \"/Users/seanreynoldscs/physna/data/evan-30-test-images\"\n",
    "subFolderList = os.listdir(base)\n",
    "print (\"The dir is: %s\"%subFolderList)"
   ]
  },
  {
   "cell_type": "code",
   "execution_count": 10,
   "id": "1317e87e",
   "metadata": {},
   "outputs": [
    {
     "name": "stdout",
     "output_type": "stream",
     "text": [
      "folder was /Users/seanreynoldscs/physna/data/evan-30-test-images/TP_3842\n",
      "folder is /Users/seanreynoldscs/physna/data/evan-30-test-images/tp_3842\n",
      "folder was /Users/seanreynoldscs/physna/data/evan-30-test-images/TP_200SZ03\n",
      "folder is /Users/seanreynoldscs/physna/data/evan-30-test-images/tp_200sz03\n",
      "folder was /Users/seanreynoldscs/physna/data/evan-30-test-images/TP_6253_0044\n",
      "folder is /Users/seanreynoldscs/physna/data/evan-30-test-images/tp_6253_0044\n",
      "folder was /Users/seanreynoldscs/physna/data/evan-30-test-images/TP_6AT5225\n",
      "folder is /Users/seanreynoldscs/physna/data/evan-30-test-images/tp_6at5225\n",
      "folder was /Users/seanreynoldscs/physna/data/evan-30-test-images/TP_MH_250\n",
      "folder is /Users/seanreynoldscs/physna/data/evan-30-test-images/tp_mh_250\n",
      "folder was /Users/seanreynoldscs/physna/data/evan-30-test-images/TP_3701\n",
      "folder is /Users/seanreynoldscs/physna/data/evan-30-test-images/tp_3701\n",
      "folder was /Users/seanreynoldscs/physna/data/evan-30-test-images/TP_SS_C_11_03M\n",
      "folder is /Users/seanreynoldscs/physna/data/evan-30-test-images/tp_ss_c_11_03m\n",
      "folder was /Users/seanreynoldscs/physna/data/evan-30-test-images/TP_RDNK_21_DC_03M\n",
      "folder is /Users/seanreynoldscs/physna/data/evan-30-test-images/tp_rdnk_21_dc_03m\n",
      "folder was /Users/seanreynoldscs/physna/data/evan-30-test-images/TP_5B\n",
      "folder is /Users/seanreynoldscs/physna/data/evan-30-test-images/tp_5b\n",
      "folder was /Users/seanreynoldscs/physna/data/evan-30-test-images/TP_E11892\n",
      "folder is /Users/seanreynoldscs/physna/data/evan-30-test-images/tp_e11892\n",
      "folder was /Users/seanreynoldscs/physna/data/evan-30-test-images/TP_LOX_EVB\n",
      "folder is /Users/seanreynoldscs/physna/data/evan-30-test-images/tp_lox_evb\n",
      "folder was /Users/seanreynoldscs/physna/data/evan-30-test-images/TP_E11893\n",
      "folder is /Users/seanreynoldscs/physna/data/evan-30-test-images/tp_e11893\n",
      "folder was /Users/seanreynoldscs/physna/data/evan-30-test-images/TP_4991XT\n",
      "folder is /Users/seanreynoldscs/physna/data/evan-30-test-images/tp_4991xt\n",
      "folder was /Users/seanreynoldscs/physna/data/evan-30-test-images/TP_LHW_150_10\n",
      "folder is /Users/seanreynoldscs/physna/data/evan-30-test-images/tp_lhw_150_10\n",
      "folder was /Users/seanreynoldscs/physna/data/evan-30-test-images/TP_GTH80\n",
      "folder is /Users/seanreynoldscs/physna/data/evan-30-test-images/tp_gth80\n",
      "folder was /Users/seanreynoldscs/physna/data/evan-30-test-images/TP_STR060\n",
      "folder is /Users/seanreynoldscs/physna/data/evan-30-test-images/tp_str060\n",
      "folder was /Users/seanreynoldscs/physna/data/evan-30-test-images/TP_LFE5\n",
      "folder is /Users/seanreynoldscs/physna/data/evan-30-test-images/tp_lfe5\n",
      "folder was /Users/seanreynoldscs/physna/data/evan-30-test-images/TP_LOX_02_F\n",
      "folder is /Users/seanreynoldscs/physna/data/evan-30-test-images/tp_lox_02_f\n",
      "folder was /Users/seanreynoldscs/physna/data/evan-30-test-images/TP_6202_0001\n",
      "folder is /Users/seanreynoldscs/physna/data/evan-30-test-images/tp_6202_0001\n",
      "folder was /Users/seanreynoldscs/physna/data/evan-30-test-images/TP_BoWex_i_100\n",
      "folder is /Users/seanreynoldscs/physna/data/evan-30-test-images/tp_bowex_i_100\n",
      "folder was /Users/seanreynoldscs/physna/data/evan-30-test-images/TP_MW0367_006\n",
      "folder is /Users/seanreynoldscs/physna/data/evan-30-test-images/tp_mw0367_006\n",
      "folder was /Users/seanreynoldscs/physna/data/evan-30-test-images/TP_8HSFD_25\n",
      "folder is /Users/seanreynoldscs/physna/data/evan-30-test-images/tp_8hsfd_25\n",
      "folder was /Users/seanreynoldscs/physna/data/evan-30-test-images/TP_6900_2NSE\n",
      "folder is /Users/seanreynoldscs/physna/data/evan-30-test-images/tp_6900_2nse\n",
      "folder was /Users/seanreynoldscs/physna/data/evan-30-test-images/TP_RP_1ADH_252843\n",
      "folder is /Users/seanreynoldscs/physna/data/evan-30-test-images/tp_rp_1adh_252843\n",
      "folder was /Users/seanreynoldscs/physna/data/evan-30-test-images/TP_MH_100\n",
      "folder is /Users/seanreynoldscs/physna/data/evan-30-test-images/tp_mh_100\n",
      "folder was /Users/seanreynoldscs/physna/data/evan-30-test-images/TP_FS15612\n",
      "folder is /Users/seanreynoldscs/physna/data/evan-30-test-images/tp_fs15612\n",
      "folder was /Users/seanreynoldscs/physna/data/evan-30-test-images/TP_O2S_FR_T4_4P\n",
      "folder is /Users/seanreynoldscs/physna/data/evan-30-test-images/tp_o2s_fr_t4_4p\n",
      "folder was /Users/seanreynoldscs/physna/data/evan-30-test-images/TP_0844\n",
      "folder is /Users/seanreynoldscs/physna/data/evan-30-test-images/tp_0844\n",
      "folder was /Users/seanreynoldscs/physna/data/evan-30-test-images/TP_0844GR1G\n",
      "folder is /Users/seanreynoldscs/physna/data/evan-30-test-images/tp_0844gr1g\n",
      "folder was /Users/seanreynoldscs/physna/data/evan-30-test-images/TP_14M\n",
      "folder is /Users/seanreynoldscs/physna/data/evan-30-test-images/tp_14m\n",
      "The dir is: ['tp_3842', 'tp_200sz03', 'tp_6253_0044', 'tp_6at5225', 'tp_mh_250', 'tp_3701', 'tp_ss_c_11_03m', 'tp_rdnk_21_dc_03m', 'tp_5b', 'tp_e11892', 'tp_lox_evb', 'tp_e11893', 'tp_4991xt', 'tp_lhw_150_10', 'tp_gth80', 'tp_str060', 'tp_lfe5', 'tp_lox_02_f', 'tp_6202_0001', 'tp_bowex_i_100', 'tp_mw0367_006', 'tp_8hsfd_25', 'tp_6900_2nse', 'tp_rp_1adh_252843', 'tp_mh_100', 'tp_fs15612', 'tp_o2s_fr_t4_4p', 'tp_0844', 'tp_0844gr1g', 'tp_14m']\n"
     ]
    }
   ],
   "source": [
    "for sub in subFolderList:\n",
    "    oldFolder = f\"{base}/{sub}\"\n",
    "    print(f\"folder was {oldFolder}\")\n",
    "    newFolder = f\"{base}/{sub.lower()}\"\n",
    "    print(f\"folder is {newFolder}\")\n",
    "    os.rename(oldFolder,newFolder)    \n",
    "    \n",
    "\n",
    "subFolderList = os.listdir(base)\n",
    "\n",
    "print (\"The dir is: %s\"%subFolderList)"
   ]
  },
  {
   "cell_type": "code",
   "execution_count": null,
   "id": "bf970c11",
   "metadata": {},
   "outputs": [],
   "source": []
  }
 ],
 "metadata": {
  "kernelspec": {
   "display_name": "Python 3.9.7 64-bit ('tf2': conda)",
   "language": "python",
   "name": "python397jvsc74a57bd0ae37491be93ab49159331f0a34aabc23e6b831eda0a065a9b252432e581294a8"
  },
  "language_info": {
   "codemirror_mode": {
    "name": "ipython",
    "version": 3
   },
   "file_extension": ".py",
   "mimetype": "text/x-python",
   "name": "python",
   "nbconvert_exporter": "python",
   "pygments_lexer": "ipython3",
   "version": "3.9.7"
  }
 },
 "nbformat": 4,
 "nbformat_minor": 5
}
