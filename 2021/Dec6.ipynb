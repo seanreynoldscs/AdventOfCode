{
 "cells": [
  {
   "cell_type": "code",
   "execution_count": 2,
   "id": "6195fa33",
   "metadata": {},
   "outputs": [],
   "source": [
    "import numpy as np\n"
   ]
  },
  {
   "cell_type": "code",
   "execution_count": 3,
   "id": "076a763b",
   "metadata": {},
   "outputs": [],
   "source": [
    "inputText = '''3,4,3,1,2'''\n",
    "\n"
   ]
  },
  {
   "cell_type": "code",
   "execution_count": null,
   "id": "aa6ccbd4",
   "metadata": {},
   "outputs": [],
   "source": [
    "\n",
    "\n",
    "dayOne = []\n",
    "for timmer in inputText.split(','):\n",
    "    dayOne.append(int(timmer))\n",
    "days = 256\n",
    "for day in range(days):\n",
    "    today = dayOne\n",
    "    nextDay = []\n",
    "    newFish = []\n",
    "    for fish in today:\n",
    "        if fish == 0:\n",
    "            newFish.append(8)\n",
    "            fish = 7\n",
    "            \n",
    "        nextDay.append(fish - 1)\n",
    "    for fish in newFish:\n",
    "        nextDay.append(fish)\n",
    "    dayOne = nextDay\n",
    "\n",
    "print(len(dayOne))"
   ]
  },
  {
   "cell_type": "code",
   "execution_count": 5,
   "id": "6116c14a",
   "metadata": {},
   "outputs": [],
   "source": [
    "inputText = '''2,1,2,1,5,1,5,1,2,2,1,1,5,1,4,4,4,3,1,2,2,3,4,1,1,5,1,1,4,2,5,5,5,1,1,4,5,4,1,1,4,2,1,4,1,2,2,5,1,1,5,1,1,3,4,4,1,2,3,1,5,5,4,1,4,1,2,1,5,1,1,1,3,4,1,1,5,1,5,1,1,5,1,1,4,3,2,4,1,4,1,5,3,3,1,5,1,3,1,1,4,1,4,5,2,3,1,1,1,1,3,1,2,1,5,1,1,5,1,1,1,1,4,1,4,3,1,5,1,1,5,4,4,2,1,4,5,1,1,3,3,1,1,4,2,5,5,2,4,1,4,5,4,5,3,1,4,1,5,2,4,5,3,1,3,2,4,5,4,4,1,5,1,5,1,2,2,1,4,1,1,4,2,2,2,4,1,1,5,3,1,1,5,4,4,1,5,1,3,1,3,2,2,1,1,4,1,4,1,2,2,1,1,3,5,1,2,1,3,1,4,5,1,3,4,1,1,1,1,4,3,3,4,5,1,1,1,1,1,2,4,5,3,4,2,1,1,1,3,3,1,4,1,1,4,2,1,5,1,1,2,3,4,2,5,1,1,1,5,1,1,4,1,2,4,1,1,2,4,3,4,2,3,1,1,2,1,5,4,2,3,5,1,2,3,1,2,2,1,4'''\n",
    "\n",
    "\n"
   ]
  },
  {
   "cell_type": "code",
   "execution_count": null,
   "id": "434b2541",
   "metadata": {},
   "outputs": [],
   "source": []
  },
  {
   "cell_type": "code",
   "execution_count": null,
   "id": "11237c4e",
   "metadata": {},
   "outputs": [],
   "source": [
    "\n",
    "\n",
    "dayOne = []\n",
    "for timmer in inputText.split(','):\n",
    "    dayOne.append(int(timmer))\n",
    "days = 256\n",
    "for day in range(days):\n",
    "    today = dayOne\n",
    "    nextDay = []\n",
    "    newFish = []\n",
    "    for fish in today:\n",
    "        if fish == 0:\n",
    "            newFish.append(8)\n",
    "            fish = 7\n",
    "            \n",
    "        nextDay.append(fish - 1)\n",
    "    for fish in newFish:\n",
    "        nextDay.append(fish)\n",
    "    dayOne = nextDay\n",
    "\n",
    "print(len(dayOne))"
   ]
  }
 ],
 "metadata": {
  "kernelspec": {
   "display_name": "Python 3.9.7 64-bit ('tf2': conda)",
   "language": "python",
   "name": "python397jvsc74a57bd0ae37491be93ab49159331f0a34aabc23e6b831eda0a065a9b252432e581294a8"
  },
  "language_info": {
   "codemirror_mode": {
    "name": "ipython",
    "version": 3
   },
   "file_extension": ".py",
   "mimetype": "text/x-python",
   "name": "python",
   "nbconvert_exporter": "python",
   "pygments_lexer": "ipython3",
   "version": "3.9.7"
  }
 },
 "nbformat": 4,
 "nbformat_minor": 5
}
