{
 "cells": [
  {
   "cell_type": "code",
   "execution_count": 1,
   "id": "6195fa33",
   "metadata": {},
   "outputs": [],
   "source": [
    "import numpy as np\n"
   ]
  },
  {
   "cell_type": "code",
   "execution_count": 87,
   "id": "076a763b",
   "metadata": {},
   "outputs": [],
   "source": [
    "inputText = '''3,4,3,1,2'''\n"
   ]
  },
  {
   "cell_type": "code",
   "execution_count": 162,
   "id": "aa6ccbd4",
   "metadata": {},
   "outputs": [
    {
     "name": "stdout",
     "output_type": "stream",
     "text": [
      "300\n",
      "[418, 401, 277, 166, 460, 229, 516]\n",
      "2467\n"
     ]
    }
   ],
   "source": [
    "\n",
    "dayOne = []\n",
    "for timmer in inputText.split(','):\n",
    "    dayOne.append(int(timmer))\n",
    "\n",
    "print(len(dayOne))\n",
    "count = 0\n",
    "manyDaysLater = 256\n",
    "days = [0] * 7\n",
    "nextWeek = [0] * 7\n",
    "for everyFishDay in dayOne:\n",
    "    days[everyFishDay] += 1\n",
    "for day in range(manyDaysLater):\n",
    "    #print(days)\n",
    "    nextWeek[(day + 2) % 7] += days[(day % 7)]\n",
    "    days[(day - 4) % 7] += nextWeek[(day - 4) % 7]\n",
    "    nextWeek[(day - 4) % 7] = 0\n",
    "\n",
    "for day in range(7):\n",
    "    count += days[day]\n",
    "    count += nextWeek[day]\n",
    "    \n",
    "print(days) \n",
    "print(count)"
   ]
  },
  {
   "cell_type": "code",
   "execution_count": 156,
   "id": "6116c14a",
   "metadata": {},
   "outputs": [],
   "source": [
    "inputText = '''2,1,2,1,5,1,5,1,2,2,1,1,5,1,4,4,4,3,1,2,2,3,4,1,1,5,1,1,4,2,5,5,5,1,1,4,5,4,1,1,4,2,1,4,1,2,2,5,1,1,5,1,1,3,4,4,1,2,3,1,5,5,4,1,4,1,2,1,5,1,1,1,3,4,1,1,5,1,5,1,1,5,1,1,4,3,2,4,1,4,1,5,3,3,1,5,1,3,1,1,4,1,4,5,2,3,1,1,1,1,3,1,2,1,5,1,1,5,1,1,1,1,4,1,4,3,1,5,1,1,5,4,4,2,1,4,5,1,1,3,3,1,1,4,2,5,5,2,4,1,4,5,4,5,3,1,4,1,5,2,4,5,3,1,3,2,4,5,4,4,1,5,1,5,1,2,2,1,4,1,1,4,2,2,2,4,1,1,5,3,1,1,5,4,4,1,5,1,3,1,3,2,2,1,1,4,1,4,1,2,2,1,1,3,5,1,2,1,3,1,4,5,1,3,4,1,1,1,1,4,3,3,4,5,1,1,1,1,1,2,4,5,3,4,2,1,1,1,3,3,1,4,1,1,4,2,1,5,1,1,2,3,4,2,5,1,1,1,5,1,1,4,1,2,4,1,1,2,4,3,4,2,3,1,1,2,1,5,4,2,3,5,1,2,3,1,2,2,1,4'''\n",
    "\n"
   ]
  },
  {
   "cell_type": "code",
   "execution_count": null,
   "id": "434b2541",
   "metadata": {},
   "outputs": [],
   "source": [
    "# 300\n",
    "# 1288490188800\n",
    "# In [48]:\n",
    "#Too Low"
   ]
  },
  {
   "cell_type": "code",
   "execution_count": null,
   "id": "fff8b4c9",
   "metadata": {},
   "outputs": [],
   "source": [
    "   "
   ]
  },
  {
   "cell_type": "code",
   "execution_count": null,
   "id": "bc9a5042",
   "metadata": {},
   "outputs": [],
   "source": []
  }
 ],
 "metadata": {
  "kernelspec": {
   "display_name": "Python 3.9.7 64-bit ('tf2': conda)",
   "language": "python",
   "name": "python397jvsc74a57bd0ae37491be93ab49159331f0a34aabc23e6b831eda0a065a9b252432e581294a8"
  },
  "language_info": {
   "codemirror_mode": {
    "name": "ipython",
    "version": 3
   },
   "file_extension": ".py",
   "mimetype": "text/x-python",
   "name": "python",
   "nbconvert_exporter": "python",
   "pygments_lexer": "ipython3",
   "version": "3.9.7"
  }
 },
 "nbformat": 4,
 "nbformat_minor": 5
}
